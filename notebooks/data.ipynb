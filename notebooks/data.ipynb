{
 "cells": [
  {
   "cell_type": "markdown",
   "metadata": {},
   "source": [
    "# Performance & Risk Data\n",
    "\n",
    "In MongoDB, all data of a particular `fund` at a particular `date` is stored in a single document. Values are stored as an Embedded Document and can be nested further.\n",
    "\n",
    "```javascript\n",
    "{\n",
    "    _id: ObjectId('...')\n",
    "    date: 2023-12-31T00:00:00.000+00:00\n",
    "    fundId: ObjectId('...')\n",
    "    values: {\n",
    "        nav: 100\n",
    "        region: {\n",
    "            AMER: 0.3\n",
    "            APAC: 0.2\n",
    "            EMEA: 0.1\n",
    "        }\n",
    "    }\n",
    "}\n",
    "```\n",
    "\n",
    "Import the libraries and connect to the database"
   ]
  },
  {
   "cell_type": "code",
   "execution_count": 5,
   "metadata": {},
   "outputs": [],
   "source": [
    "import os\n",
    "import numpy as np\n",
    "import pandas as pd\n",
    "from pymongo import MongoClient\n",
    "client = MongoClient(os.environ[\"MONGODB_HOST\"])\n",
    "db = client.ftkdb"
   ]
  },
  {
   "cell_type": "markdown",
   "metadata": {},
   "source": [
    "## Saving Data"
   ]
  },
  {
   "cell_type": "code",
   "execution_count": 44,
   "metadata": {},
   "outputs": [],
   "source": [
    "fund1 = db.fund.find_one({'name': 'Fund One'})\n",
    "fund2 = db.fund.find_one({'name': 'Fund Two'})\n",
    "\n",
    "# index is Timestamp, row is Series\n",
    "def save_data(fund, data):\n",
    "    for date, row in data.iterrows():    \n",
    "        row.index = row.index.map(lambda x: f'values.{x}')\n",
    "        result = db.data.update_one({\n",
    "            'fundId': fund['_id'],\n",
    "            'date': date\n",
    "        },{\n",
    "            '$set': {**row.dropna().to_dict()}\n",
    "        },\n",
    "        upsert=True)"
   ]
  },
  {
   "cell_type": "code",
   "execution_count": 45,
   "metadata": {},
   "outputs": [],
   "source": [
    "dates = pd.date_range('2023-12-31', periods=6, freq='M')\n",
    "navs = pd.DataFrame(np.random.randint(100, 110, size=6), index=dates, columns=['nav'])\n",
    "save_data(fund1, navs)"
   ]
  },
  {
   "cell_type": "code",
   "execution_count": 46,
   "metadata": {},
   "outputs": [],
   "source": [
    "rets = navs.pct_change().to_period()\n",
    "# Period cannot be encoded\n",
    "rets = rets.to_timestamp()\n",
    "rets.index = rets.index + pd.offsets.MonthEnd(0)\n",
    "rets.columns = ['return']\n",
    "save_data(fund1, rets)"
   ]
  },
  {
   "cell_type": "code",
   "execution_count": 47,
   "metadata": {},
   "outputs": [],
   "source": [
    "regions = pd.DataFrame(np.random.rand(6, 3), index=dates, columns=['region.AMER', 'region.EMEA', 'region.APAC'])\n",
    "save_data(fund1, regions)"
   ]
  },
  {
   "cell_type": "code",
   "execution_count": 50,
   "metadata": {},
   "outputs": [],
   "source": [
    "multi = pd.concat([navs, rets, regions], axis=1)\n",
    "save_data(fund2, multi)"
   ]
  },
  {
   "cell_type": "markdown",
   "metadata": {},
   "source": [
    "## Loading Data"
   ]
  },
  {
   "cell_type": "code",
   "execution_count": 57,
   "metadata": {},
   "outputs": [],
   "source": [
    "data = list(db.data.find({'fundId': fund1['_id']}).sort({'date': 1}))\n",
    "df = pd.DataFrame([d['values'] for d in data], index=[d['date'] for d in data])\n",
    "\n",
    "navs = df.loc[:, 'nav']\n",
    "regions = df.loc[:, 'region'].apply(pd.Series)"
   ]
  }
 ],
 "metadata": {
  "kernelspec": {
   "display_name": ".venv",
   "language": "python",
   "name": "python3"
  },
  "language_info": {
   "codemirror_mode": {
    "name": "ipython",
    "version": 3
   },
   "file_extension": ".py",
   "mimetype": "text/x-python",
   "name": "python",
   "nbconvert_exporter": "python",
   "pygments_lexer": "ipython3",
   "version": "3.11.5"
  }
 },
 "nbformat": 4,
 "nbformat_minor": 2
}
