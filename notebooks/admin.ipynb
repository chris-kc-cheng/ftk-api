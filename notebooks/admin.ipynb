{
 "cells": [
  {
   "cell_type": "markdown",
   "metadata": {},
   "source": [
    "# Admin\n",
    "\n",
    "1. Initialize database connection"
   ]
  },
  {
   "cell_type": "code",
   "execution_count": null,
   "metadata": {},
   "outputs": [],
   "source": [
    "%cd ..\n",
    "from pymongo import MongoClient\n",
    "client = MongoClient()\n",
    "db = client.ftkdb"
   ]
  },
  {
   "cell_type": "markdown",
   "metadata": {},
   "source": [
    "2. Create admin and users"
   ]
  },
  {
   "cell_type": "code",
   "execution_count": null,
   "metadata": {},
   "outputs": [],
   "source": [
    "from passlib.context import CryptContext\n",
    "from app.routers.user import User\n",
    "from app.internal.admin import create_user\n",
    "pwd_context = CryptContext(schemes=[\"bcrypt\"], deprecated=\"auto\")\n",
    "await create_user(User(\n",
    "    username='USERNAME',\n",
    "    password= 'PASSWORD',\n",
    "    first_name='FIRSTNAME',\n",
    "    last_name='LASTNAME',\n",
    "    is_active=True,\n",
    "    roles=['admin', 'user']\n",
    "))"
   ]
  },
  {
   "cell_type": "markdown",
   "metadata": {},
   "source": [
    "3. Add sample tags for asset classes"
   ]
  },
  {
   "cell_type": "code",
   "execution_count": null,
   "metadata": {},
   "outputs": [],
   "source": [
    "import pandas as pd\n",
    "# Keep the empty string\n",
    "df = pd.read_csv('data/tags.csv', na_filter=False)\n",
    "df.children = df.children.apply(lambda s: s.split(',') if s != \"\" else [])\n",
    "db.tag.insert_many(df.to_dict('records'))"
   ]
  }
 ],
 "metadata": {
  "kernelspec": {
   "display_name": ".venv",
   "language": "python",
   "name": "python3"
  },
  "language_info": {
   "codemirror_mode": {
    "name": "ipython",
    "version": 3
   },
   "file_extension": ".py",
   "mimetype": "text/x-python",
   "name": "python",
   "nbconvert_exporter": "python",
   "pygments_lexer": "ipython3",
   "version": "3.11.3"
  }
 },
 "nbformat": 4,
 "nbformat_minor": 2
}
